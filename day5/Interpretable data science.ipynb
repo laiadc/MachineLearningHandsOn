{
 "cells": [
  {
   "cell_type": "markdown",
   "metadata": {},
   "source": [
    "[![Open In Colab](https://colab.research.google.com/assets/colab-badge.svg)](https://colab.research.google.com/github/laiadc/MachineLearningHandsOn/blob/main/day5/Interpretable%20data%20science.ipynb)\n",
    "\n",
    "# Interpretable models\n",
    "\n",
    "Explanations by “interpretable” models are produced by inspecting the inner logic of the algorithm that has given the prediction.\n",
    "\n",
    "<img src=\"interpretable_joke.png\" alt=\"Interpretable joke\" width=\"300\"/>\n",
    "\n"
   ]
  },
  {
   "cell_type": "markdown",
   "metadata": {},
   "source": [
    "## Linear regression: an interpretable model\n",
    "\n",
    "A linear regression model predicts the target as a weighted sum of the feature inputs:\n",
    "\n",
    "$$\n",
    "y = \\beta_0 + \\beta_1 x_1 + \\beta_2 x_2 + \\cdots + \\beta_n x_n \n",
    "$$\n",
    "\n",
    "where $y$ is the variable we want to predict, $x_1, \\cdots, x_n$ are the variables we want to use to to predict $y$ and $\\beta_1, \\cdots, \\beta_n$ are the parameters that we need to find. \n",
    "\n",
    "For example, if we want to predict the rent of an appartment (variable y), we could take into account its size ($x_1$), the number of rooms ($x_2$) and the distance to closest metro station ($x_3$). \n",
    "\n",
    "## Importance of variables in a linear regression\n",
    "\n",
    "Interpretation of a linear regression:\n",
    "\n",
    "*When we increase variable $x_k$ by one unit, we increase the value of the predictoin $y$ by $\\beta_k$ units when all the other variables remain fixed.*\n",
    "\n",
    "**Example:**\n",
    "\n",
    "Imagine we have the model \n",
    "\n",
    "$$\n",
    "y = 3 x_1 - 5 x_2\n",
    "$$\n",
    "\n",
    "If we increase $x_1$ by one unit, the prediction $y$ will increase 3 units. On the other hand, if we increase $x_2$ by one unit, the prediction $y$ will decrease 5 units. \n",
    "\n",
    "**Remarks:**\n",
    "There are several things we have to take into account if we want to interpret a linear model.\n",
    "\n",
    "1. If we want to use the coefficients $\\beta_k$ to see which variable is more important, all the variables should lie in the same range of variables. For example, suppose you have the model $y = 3x_1 - 5 x_2$ where $x_1$ is the weight in kg. If you change the units of $x_1$ to grams, the model will automatically become $y = 3000x_1 - 5 x_2$. Now it seems that the variable $x_1$ is much more important than the variable $x_2$, but the only thing we have done is change the range of values of $x_1$. If we want to compare the importance of $x_1$ and $x_2$, they have to be of the same magnitude.\n",
    "\n",
    "2. The coefficients $\\beta_k$ reflect the importance of the variables **only when these variables are independent.** Imagine the case where we have the model $y = 3 x_1$. Now suppose that we invent another variable $x_2$ which is exactly the same as $x_1$ ($x_2=x_1$, but with a different name). Now we could have the model $y = 4x_1 - x_2$, but the coefficients would mean nothing regarding importance. In fact we could have infinite models: $y = -2x_1 + 5x_2$, $y = 100x_1 - 97x_2, \\cdots$ , or basically any model where $\\beta_1 + \\beta_2=3$.  "
   ]
  },
  {
   "cell_type": "markdown",
   "metadata": {},
   "source": [
    "## Example of a linear regression\n",
    "\n",
    "In the following example, we will use multiple linear regression to predict the CO2 emission (i.e., the dependent variable $y$) of  multiple cars by using 2 independent/input variables ($x_1, x_2$):\n",
    "\n",
    "+ Volume (in $m^3$)\n",
    "+ Weight (in tones)\n",
    "\n",
    "Let's look at the dataset we will work with:"
   ]
  },
  {
   "cell_type": "code",
   "execution_count": 1,
   "metadata": {},
   "outputs": [
    {
     "data": {
      "text/html": [
       "<div>\n",
       "<style scoped>\n",
       "    .dataframe tbody tr th:only-of-type {\n",
       "        vertical-align: middle;\n",
       "    }\n",
       "\n",
       "    .dataframe tbody tr th {\n",
       "        vertical-align: top;\n",
       "    }\n",
       "\n",
       "    .dataframe thead th {\n",
       "        text-align: right;\n",
       "    }\n",
       "</style>\n",
       "<table border=\"1\" class=\"dataframe\">\n",
       "  <thead>\n",
       "    <tr style=\"text-align: right;\">\n",
       "      <th></th>\n",
       "      <th>Car</th>\n",
       "      <th>Model</th>\n",
       "      <th>Volume</th>\n",
       "      <th>Weight</th>\n",
       "      <th>CO2</th>\n",
       "    </tr>\n",
       "  </thead>\n",
       "  <tbody>\n",
       "    <tr>\n",
       "      <th>0</th>\n",
       "      <td>Toyoty</td>\n",
       "      <td>Aygo</td>\n",
       "      <td>1000</td>\n",
       "      <td>0.790</td>\n",
       "      <td>99</td>\n",
       "    </tr>\n",
       "    <tr>\n",
       "      <th>1</th>\n",
       "      <td>Mitsubishi</td>\n",
       "      <td>Space Star</td>\n",
       "      <td>1200</td>\n",
       "      <td>1.160</td>\n",
       "      <td>95</td>\n",
       "    </tr>\n",
       "    <tr>\n",
       "      <th>2</th>\n",
       "      <td>Skoda</td>\n",
       "      <td>Citigo</td>\n",
       "      <td>1000</td>\n",
       "      <td>0.929</td>\n",
       "      <td>95</td>\n",
       "    </tr>\n",
       "    <tr>\n",
       "      <th>3</th>\n",
       "      <td>Fiat</td>\n",
       "      <td>500</td>\n",
       "      <td>900</td>\n",
       "      <td>0.865</td>\n",
       "      <td>90</td>\n",
       "    </tr>\n",
       "    <tr>\n",
       "      <th>4</th>\n",
       "      <td>Mini</td>\n",
       "      <td>Cooper</td>\n",
       "      <td>1500</td>\n",
       "      <td>1.140</td>\n",
       "      <td>105</td>\n",
       "    </tr>\n",
       "    <tr>\n",
       "      <th>5</th>\n",
       "      <td>VW</td>\n",
       "      <td>Up!</td>\n",
       "      <td>1000</td>\n",
       "      <td>0.929</td>\n",
       "      <td>105</td>\n",
       "    </tr>\n",
       "    <tr>\n",
       "      <th>6</th>\n",
       "      <td>Skoda</td>\n",
       "      <td>Fabia</td>\n",
       "      <td>1400</td>\n",
       "      <td>1.109</td>\n",
       "      <td>90</td>\n",
       "    </tr>\n",
       "    <tr>\n",
       "      <th>7</th>\n",
       "      <td>Mercedes</td>\n",
       "      <td>A-Class</td>\n",
       "      <td>1500</td>\n",
       "      <td>1.365</td>\n",
       "      <td>92</td>\n",
       "    </tr>\n",
       "    <tr>\n",
       "      <th>8</th>\n",
       "      <td>Ford</td>\n",
       "      <td>Fiesta</td>\n",
       "      <td>1500</td>\n",
       "      <td>1.112</td>\n",
       "      <td>98</td>\n",
       "    </tr>\n",
       "    <tr>\n",
       "      <th>9</th>\n",
       "      <td>Audi</td>\n",
       "      <td>A1</td>\n",
       "      <td>1600</td>\n",
       "      <td>1.150</td>\n",
       "      <td>99</td>\n",
       "    </tr>\n",
       "  </tbody>\n",
       "</table>\n",
       "</div>"
      ],
      "text/plain": [
       "          Car       Model  Volume  Weight  CO2\n",
       "0      Toyoty        Aygo    1000   0.790   99\n",
       "1  Mitsubishi  Space Star    1200   1.160   95\n",
       "2       Skoda      Citigo    1000   0.929   95\n",
       "3        Fiat         500     900   0.865   90\n",
       "4        Mini      Cooper    1500   1.140  105\n",
       "5          VW         Up!    1000   0.929  105\n",
       "6       Skoda       Fabia    1400   1.109   90\n",
       "7    Mercedes     A-Class    1500   1.365   92\n",
       "8        Ford      Fiesta    1500   1.112   98\n",
       "9        Audi          A1    1600   1.150   99"
      ]
     },
     "execution_count": 1,
     "metadata": {},
     "output_type": "execute_result"
    }
   ],
   "source": [
    "import pandas as pd\n",
    "df = pd.read_csv(\"cars.csv\")\n",
    "df.head(10)"
   ]
  },
  {
   "cell_type": "markdown",
   "metadata": {},
   "source": [
    "## Performing a linear regression\n",
    "\n",
    "Now that we have our data we can perform a linear regression using the python library `sklearn`."
   ]
  },
  {
   "cell_type": "code",
   "execution_count": 2,
   "metadata": {},
   "outputs": [
    {
     "name": "stdout",
     "output_type": "stream",
     "text": [
      "Linear regression Coefficients:  Weight = 7.550947270300684,       Volume=0.007805257527747127\n",
      "\n"
     ]
    },
    {
     "data": {
      "image/png": "[encoded data removed]",
      "text/plain": [
       "<Figure size 432x288 with 1 Axes>"
      ]
     },
     "metadata": {
      "needs_background": "light"
     },
     "output_type": "display_data"
    }
   ],
   "source": [
    "from sklearn.linear_model import LinearRegression\n",
    "import matplotlib.pyplot as plt\n",
    "\n",
    "X = df[['Weight', 'Volume']]\n",
    "y = df['CO2']\n",
    "\n",
    "lm =LinearRegression()\n",
    "lm.fit(X, y)\n",
    "print('Linear regression Coefficients:  Weight = {}, \\\n",
    "      Volume={}\\n'.format(lm.coef_[0],lm.coef_[1]))\n",
    "\n",
    "y_hat = lm.predict(X)\n",
    "plt.plot(y, label='Real data')\n",
    "plt.plot(y_hat, label='Prediction')\n",
    "plt.legend()\n",
    "plt.show()"
   ]
  },
  {
   "cell_type": "markdown",
   "metadata": {},
   "source": [
    "<div class = \"alert alert-info\" style = \"border-radius:10px\" ><b>EXERCISE:</b > With the previous coefficients can we infer which variabe is more important to predict the CO2 emissions? Which one do you think it is? </div>"
   ]
  },
  {
   "cell_type": "markdown",
   "metadata": {},
   "source": [
    "## The importance of normalization\n",
    "\n",
    "As we have mentioned before, the linear regression coefficients only give us information about the importance of each variable if those varables have the same range of values. Let's have a look at the variables of our dataset:"
   ]
  },
  {
   "cell_type": "code",
   "execution_count": 3,
   "metadata": {},
   "outputs": [
    {
     "data": {
      "text/html": [
       "<div>\n",
       "<style scoped>\n",
       "    .dataframe tbody tr th:only-of-type {\n",
       "        vertical-align: middle;\n",
       "    }\n",
       "\n",
       "    .dataframe tbody tr th {\n",
       "        vertical-align: top;\n",
       "    }\n",
       "\n",
       "    .dataframe thead th {\n",
       "        text-align: right;\n",
       "    }\n",
       "</style>\n",
       "<table border=\"1\" class=\"dataframe\">\n",
       "  <thead>\n",
       "    <tr style=\"text-align: right;\">\n",
       "      <th></th>\n",
       "      <th>Weight</th>\n",
       "      <th>Volume</th>\n",
       "    </tr>\n",
       "  </thead>\n",
       "  <tbody>\n",
       "    <tr>\n",
       "      <th>0</th>\n",
       "      <td>0.790</td>\n",
       "      <td>1000</td>\n",
       "    </tr>\n",
       "    <tr>\n",
       "      <th>1</th>\n",
       "      <td>1.160</td>\n",
       "      <td>1200</td>\n",
       "    </tr>\n",
       "    <tr>\n",
       "      <th>2</th>\n",
       "      <td>0.929</td>\n",
       "      <td>1000</td>\n",
       "    </tr>\n",
       "    <tr>\n",
       "      <th>3</th>\n",
       "      <td>0.865</td>\n",
       "      <td>900</td>\n",
       "    </tr>\n",
       "    <tr>\n",
       "      <th>4</th>\n",
       "      <td>1.140</td>\n",
       "      <td>1500</td>\n",
       "    </tr>\n",
       "    <tr>\n",
       "      <th>5</th>\n",
       "      <td>0.929</td>\n",
       "      <td>1000</td>\n",
       "    </tr>\n",
       "    <tr>\n",
       "      <th>6</th>\n",
       "      <td>1.109</td>\n",
       "      <td>1400</td>\n",
       "    </tr>\n",
       "    <tr>\n",
       "      <th>7</th>\n",
       "      <td>1.365</td>\n",
       "      <td>1500</td>\n",
       "    </tr>\n",
       "    <tr>\n",
       "      <th>8</th>\n",
       "      <td>1.112</td>\n",
       "      <td>1500</td>\n",
       "    </tr>\n",
       "    <tr>\n",
       "      <th>9</th>\n",
       "      <td>1.150</td>\n",
       "      <td>1600</td>\n",
       "    </tr>\n",
       "  </tbody>\n",
       "</table>\n",
       "</div>"
      ],
      "text/plain": [
       "   Weight  Volume\n",
       "0   0.790    1000\n",
       "1   1.160    1200\n",
       "2   0.929    1000\n",
       "3   0.865     900\n",
       "4   1.140    1500\n",
       "5   0.929    1000\n",
       "6   1.109    1400\n",
       "7   1.365    1500\n",
       "8   1.112    1500\n",
       "9   1.150    1600"
      ]
     },
     "execution_count": 3,
     "metadata": {},
     "output_type": "execute_result"
    }
   ],
   "source": [
    "X.head(10)"
   ]
  },
  {
   "cell_type": "markdown",
   "metadata": {},
   "source": [
    "We see that the volume has values of the order of 900-1600 approximately, while the weight (in tones) has values of 0.5-1.5. The difference in scale is too large, and therefore the coefficients do not give enough information about the imprtance of such variables. To solve this problem, we can normalize the values of the weight and volume so that they are between 0 and 1. We will use a function in the `sklearn package`."
   ]
  },
  {
   "cell_type": "code",
   "execution_count": 4,
   "metadata": {},
   "outputs": [
    {
     "data": {
      "text/html": [
       "<div>\n",
       "<style scoped>\n",
       "    .dataframe tbody tr th:only-of-type {\n",
       "        vertical-align: middle;\n",
       "    }\n",
       "\n",
       "    .dataframe tbody tr th {\n",
       "        vertical-align: top;\n",
       "    }\n",
       "\n",
       "    .dataframe thead th {\n",
       "        text-align: right;\n",
       "    }\n",
       "</style>\n",
       "<table border=\"1\" class=\"dataframe\">\n",
       "  <thead>\n",
       "    <tr style=\"text-align: right;\">\n",
       "      <th></th>\n",
       "      <th>Weight</th>\n",
       "      <th>Volume</th>\n",
       "    </tr>\n",
       "  </thead>\n",
       "  <tbody>\n",
       "    <tr>\n",
       "      <th>0</th>\n",
       "      <td>0.000000</td>\n",
       "      <td>0.0625</td>\n",
       "    </tr>\n",
       "    <tr>\n",
       "      <th>1</th>\n",
       "      <td>0.387029</td>\n",
       "      <td>0.1875</td>\n",
       "    </tr>\n",
       "    <tr>\n",
       "      <th>2</th>\n",
       "      <td>0.145397</td>\n",
       "      <td>0.0625</td>\n",
       "    </tr>\n",
       "    <tr>\n",
       "      <th>3</th>\n",
       "      <td>0.078452</td>\n",
       "      <td>0.0000</td>\n",
       "    </tr>\n",
       "    <tr>\n",
       "      <th>4</th>\n",
       "      <td>0.366109</td>\n",
       "      <td>0.3750</td>\n",
       "    </tr>\n",
       "    <tr>\n",
       "      <th>5</th>\n",
       "      <td>0.145397</td>\n",
       "      <td>0.0625</td>\n",
       "    </tr>\n",
       "    <tr>\n",
       "      <th>6</th>\n",
       "      <td>0.333682</td>\n",
       "      <td>0.3125</td>\n",
       "    </tr>\n",
       "    <tr>\n",
       "      <th>7</th>\n",
       "      <td>0.601464</td>\n",
       "      <td>0.3750</td>\n",
       "    </tr>\n",
       "    <tr>\n",
       "      <th>8</th>\n",
       "      <td>0.336820</td>\n",
       "      <td>0.3750</td>\n",
       "    </tr>\n",
       "    <tr>\n",
       "      <th>9</th>\n",
       "      <td>0.376569</td>\n",
       "      <td>0.4375</td>\n",
       "    </tr>\n",
       "  </tbody>\n",
       "</table>\n",
       "</div>"
      ],
      "text/plain": [
       "     Weight  Volume\n",
       "0  0.000000  0.0625\n",
       "1  0.387029  0.1875\n",
       "2  0.145397  0.0625\n",
       "3  0.078452  0.0000\n",
       "4  0.366109  0.3750\n",
       "5  0.145397  0.0625\n",
       "6  0.333682  0.3125\n",
       "7  0.601464  0.3750\n",
       "8  0.336820  0.3750\n",
       "9  0.376569  0.4375"
      ]
     },
     "execution_count": 4,
     "metadata": {},
     "output_type": "execute_result"
    }
   ],
   "source": [
    "from sklearn.preprocessing import MinMaxScaler\n",
    "\n",
    "scaler = MinMaxScaler()\n",
    "\n",
    "X_scaled = scaler.fit_transform(X)\n",
    "pd.DataFrame(X_scaled, columns= X.columns).head(10)"
   ]
  },
  {
   "cell_type": "markdown",
   "metadata": {},
   "source": [
    "Now we can perform the linear regression again with the normalized data."
   ]
  },
  {
   "cell_type": "code",
   "execution_count": 5,
   "metadata": {},
   "outputs": [
    {
     "name": "stdout",
     "output_type": "stream",
     "text": [
      "Linear regression Coefficients:  Weight = 7.2187055904074455,       Volume=12.488412044395409\n",
      "\n"
     ]
    },
    {
     "data": {
      "image/png": "[encoded data removed]",
      "text/plain": [
       "<Figure size 432x288 with 1 Axes>"
      ]
     },
     "metadata": {
      "needs_background": "light"
     },
     "output_type": "display_data"
    }
   ],
   "source": [
    "from sklearn import linear_model\n",
    "import matplotlib.pyplot as plt\n",
    " \n",
    "lm2 = linear_model.LinearRegression()\n",
    "lm2.fit(X_scaled, y)\n",
    "print('Linear regression Coefficients:  Weight = {}, \\\n",
    "      Volume={}\\n'.format(lm2.coef_[0], lm2.coef_[1]))\n",
    "\n",
    "y_hat = lm2.predict(X_scaled)\n",
    "plt.plot(y, label='Real data')\n",
    "plt.plot(y_hat, label='Prediction')\n",
    "plt.legend()\n",
    "plt.show()"
   ]
  },
  {
   "cell_type": "markdown",
   "metadata": {},
   "source": [
    "<div class = \"alert alert-info\" style = \"border-radius:10px\" ><b>EXERCISE:</b > Whih variable is more important to predict the CO2 consumption in cars? </div>"
   ]
  },
  {
   "cell_type": "markdown",
   "metadata": {},
   "source": [
    "# Garson algorithm\n",
    "\n",
    "Similar to the linear regression problem, the weights of the neural networks can be used as an indicator of the importance of the input variables. That is, using the trained weights of the neural network we can estimate which inputs have a higher impact on the final output. \n",
    "\n",
    "**Remark:** This algoithm is only valid for fully-connected networks and preferably with few hidden layers. Even though it is not the most used algorithm currently, it is quite illustrative."
   ]
  },
  {
   "cell_type": "markdown",
   "metadata": {},
   "source": [
    "## How does the algorithm work?\n",
    "\n",
    "Imagine you have trained a neural network to perform a certain task. Such neural network has three inputs (three variables that you want to use to predict the output), one hidden layer with two neurons and one output neuron. This architecture is shown in the following image:\n",
    "\n",
    "\n",
    "<img src=\"Garson2.png\" alt=\"Example NN\" width=\"600\"/>\n",
    "\n",
    "The weights $w_{A1}, w_{B1}, w_{A2}, w_{B2}, w_{A3}, w_{B3}, w_{OA}, w_{OB}$ have been learnt during the training phase.\n",
    "\n",
    "The Garson algorithm consists of the following steps:\n",
    "\n",
    "1. Compute the matrix containing input-hidden-output weights:\n",
    "\n",
    "|         | Hidden A | Hidden B|\n",
    "|---------| -------- | ------- |\n",
    "| Input 1 | $w_{A1}$ | $w_{B1}$|\n",
    "| Input 2 | $w_{A2}$ | $w_{B2}$|\n",
    "| Input 3 | $w_{A3}$ | $w_{B3}$|\n",
    "| Output  | $w_{OA}$ | $w_{OB}$|\n",
    "\n",
    "2. Calculate the **contribution of each input to the output** via each hidden neuron: The contribution is the product of the input-hidden weight times the hidden-output weight.\n",
    "\n",
    "|         | Hidden A &nbsp; &nbsp; &nbsp; &nbsp;&nbsp; &nbsp; &nbsp; &nbsp;&nbsp; &nbsp; &nbsp; &nbsp;| Hidden B &nbsp; &nbsp; &nbsp; &nbsp;&nbsp; &nbsp; &nbsp; &nbsp;&nbsp; &nbsp; &nbsp; &nbsp;|\n",
    "|---------| -----------------------------  | ----------------------------- |\n",
    "| Input 1 | $c_{A1} = w_{A1} \\cdot w_{OA}$ | $c_{B1} = w_{B1} \\cdot w_{OB}$ |\n",
    "| Input 2 | $c_{A2} = w_{A2} \\cdot w_{OA}$ | $c_{B2} =  \\cdots           $ |\n",
    "| Input 3 | $c_{A3} =  \\cdots           $  | $c_{B3} =  \\cdots           $ |\n",
    "\n",
    "3. Calculate the **relative contribution** of each input to a particular neuron:\n",
    "\n",
    "|         | Hidden A &nbsp; &nbsp; &nbsp; &nbsp;&nbsp; &nbsp; &nbsp; &nbsp;&nbsp; &nbsp; &nbsp; &nbsp;&nbsp; &nbsp; &nbsp; &nbsp;| Hidden B &nbsp; &nbsp; &nbsp; &nbsp;&nbsp; &nbsp; &nbsp; &nbsp;&nbsp; &nbsp; &nbsp; &nbsp;|\n",
    "|---------| -----------------------------  | ----------------------------- |\n",
    "| Input 1 | $r_{A1} = \\frac{|c_{A1}|}{|c_{A1}| + |c_{A2}| + |c_{A3}|}$ | $r_{B1} = \\frac{|c_{B1}|}{|c_{B1}| + |c_{B2}| + |c_{B3}|}$ |\n",
    "| Input 2 | $r_{A2} = \\frac{|c_{A2}|}{|c_{A1}| + |c_{A2}| + |c_{A3}|}$ | $r_{B2} =  \\cdots           $ |\n",
    "| Input 3 | $r_{A3} =  \\cdots           $  | $r_{B3} =  \\cdots           $ |\n",
    "\n",
    "\n",
    "4. **Sum the relative input contributions** to each neuron\n",
    "\n",
    "|       |  &nbsp; &nbsp; &nbsp;&nbsp; &nbsp; &nbsp; &nbsp; &nbsp; &nbsp;   &nbsp; &nbsp; &nbsp;&nbsp; &nbsp; &nbsp; &nbsp; &nbsp; &nbsp;|\n",
    "|-------| --------------------------  |\n",
    "|Input 1|$S_1 = r_{A1} + r_{B1}$      |\n",
    "|Input 2|$S_2 = r_{A2} + r_{B2}$      |\n",
    "|Input 3|$S_3 = \\cdots$               |\n",
    "\n",
    "\n",
    "5. Finally, calculate the relative sum of each input, which gives the **importance** of each input:\n",
    "\n",
    "|       |  &nbsp; &nbsp; &nbsp;&nbsp; &nbsp; &nbsp; &nbsp; &nbsp; &nbsp;   &nbsp; &nbsp; &nbsp;&nbsp; &nbsp; &nbsp; &nbsp; &nbsp; &nbsp;|\n",
    "|-------| --------------------------  |\n",
    "|Input 1|$I_1 = \\frac{S_1}{S_1 + S_2 + S_3}$      |\n",
    "|Input 2|$I_2 = \\cdots$      |\n",
    "|Input 3|$I_3 = \\cdots$               |"
   ]
  },
  {
   "cell_type": "markdown",
   "metadata": {},
   "source": [
    "<div class = \"alert alert-info\" style = \"border-radius:10px\" ><b>EXERCISE:</b > Copy the previous tables in a notebook and complete the missing values</div>"
   ]
  },
  {
   "cell_type": "markdown",
   "metadata": {},
   "source": [
    "<div class = \"alert alert-info\" style = \"border-radius:10px\" ><b>EXERCISE:</b > Given the following values of the neural network weights, compute the relative importance of each input using Garson's algorithm.</div>\n",
    "\n",
    "|         | Hidden A &nbsp; &nbsp;&nbsp;  &nbsp; &nbsp;&nbsp;  &nbsp; &nbsp;&nbsp; | Hidden B &nbsp; &nbsp;&nbsp;  &nbsp; &nbsp;&nbsp;  &nbsp; &nbsp;&nbsp;|\n",
    "|---------| -------- | ------- |\n",
    "| Input 1 | $w_{A1} = -2.61$ | $w_{B1} = -1.23$|\n",
    "| Input 2 | $w_{A2} = 0.13$ | $w_{B2} = -0.91$|\n",
    "| Input 3 | $w_{A3} = -0.69$ | $w_{B3} = -2.09$|\n",
    "| Output  | $w_{OA} = 1.11$ | $w_{OB}= 0.39$|"
   ]
  },
  {
   "cell_type": "markdown",
   "metadata": {},
   "source": [
    "<div class = \"alert alert-info\" style = \"border-radius:10px\" ><b>EXERCISE:</b > The following code calculates the Garson algorithm for a neural network with one hidden layer. Compare your results with the output of the code.</div>"
   ]
  },
  {
   "cell_type": "code",
   "execution_count": 6,
   "metadata": {},
   "outputs": [],
   "source": [
    "# A = matrix of weights of input-hidden layer (rows=input & cols=hidden)\n",
    "# B = vector of weights of hidden-output layer\n",
    "\n",
    "# A = [[W_A1, W_B1],\n",
    "#      [W_A2, W_B2],\n",
    "#      [W_A3, W_B3]]\n",
    "\n",
    "# B = [W_OA, W_OB]\n",
    "\n",
    "import numpy as np"
   ]
  },
  {
   "cell_type": "code",
   "execution_count": 7,
   "metadata": {},
   "outputs": [],
   "source": [
    "A= np.array([[-2.61, -1.23],\n",
    "            [0.13, -0.91],\n",
    "            [-0.69, -2.09]])\n",
    "\n",
    "B = np.array([1.11, 0.39])"
   ]
  },
  {
   "cell_type": "code",
   "execution_count": 8,
   "metadata": {},
   "outputs": [],
   "source": [
    "def garson(A, B):\n",
    "    \"\"\"\n",
    "    Computes Garson's algorithm\n",
    "    A = matrix of weights of input-hidden layer (rows=input & cols=hidden)\n",
    "    B = vector of weights of hidden-output layer\n",
    "    \"\"\"\n",
    "    B = np.diag(B)\n",
    "\n",
    "    # connection weight through the different hidden node\n",
    "    cw = np.dot(A, B)\n",
    "\n",
    "    # weight through node (axis=0 is column; sum per input feature)\n",
    "    cw_h = abs(cw).sum(axis=0)\n",
    "\n",
    "    # relative contribution of input neuron to outgoing signal of each hidden neuron\n",
    "    # sum to find relative contribution of input neuron\n",
    "    rc = np.divide(abs(cw), abs(cw_h))\n",
    "    rc = rc.sum(axis=1)\n",
    "\n",
    "    # normalize to 100% for relative importance\n",
    "    ri = rc / rc.sum()\n",
    "    return(ri)"
   ]
  },
  {
   "cell_type": "code",
   "execution_count": 9,
   "metadata": {},
   "outputs": [
    {
     "data": {
      "text/plain": [
       "array([0.52585654, 0.12651545, 0.34762801])"
      ]
     },
     "execution_count": 9,
     "metadata": {},
     "output_type": "execute_result"
    }
   ],
   "source": [
    "garson(A,B)"
   ]
  },
  {
   "cell_type": "markdown",
   "metadata": {},
   "source": [
    "To explore other algorithms to interpret deep learning models, see:\n",
    "\n",
    "https://distill.pub/2018/building-blocks/"
   ]
  }
 ],
 "metadata": {
  "kernelspec": {
   "display_name": "Python 3",
   "language": "python",
   "name": "python3"
  },
  "language_info": {
   "codemirror_mode": {
    "name": "ipython",
    "version": 3
   },
   "file_extension": ".py",
   "mimetype": "text/x-python",
   "name": "python",
   "nbconvert_exporter": "python",
   "pygments_lexer": "ipython3",
   "version": "3.8.8"
  }
 },
 "nbformat": 4,
 "nbformat_minor": 2
}
