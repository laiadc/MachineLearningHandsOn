{
 "cells": [
  {
   "cell_type": "markdown",
   "metadata": {
    "id": "z2fdBzI62UQr"
   },
   "source": [
    "# How to learn Deep Learning models?\n",
    "\n",
    "We have seen that deep learning models consist of a set of layers of neurons with connections between the nodes of each layer. Each layer *learns* a particular feature or trait of the input and uses it to predict the output. \n",
    "\n",
    "\n",
    "![](https://drive.google.com/uc?export=view&id=1X3iQfNGN10ZPUak_M4BrjRZKzS8mg0DU)\n",
    "\n",
    "+ What do we want the neural network to learn? Given the image input (e.g the hand-written number five), we want to learn to **predict the label** (e.g 5). \n",
    "\n",
    "+ What do we have to learn to train the neural network? The **connection weights** $w_{11}, w_{12}, \\cdots w_{NK}$."
   ]
  },
  {
   "cell_type": "markdown",
   "metadata": {
    "id": "65FN2Bos9hmw"
   },
   "source": [
    "## Elements for training\n",
    "\n",
    "Even though the algoritm to train the network is quite complex, there are python libraries which make it easy for us to train a neural network. There are just a few things we have to specify, and the library will do the rest:\n",
    "\n",
    "+ The number of hidden layers.\n",
    "\n",
    "+ The number of neurons for each layer\n",
    "\n",
    "+ The type of layer: There are several modifications of the standard neural network described above. These modifications are often used for specific purposes:\n",
    "  + Fully-connected layer: It is the classical layer, used for general applications.\n",
    "  + Convolutional layer: Mostly used when the input of the network is an image.\n",
    "  + Recurrent layer: Used for time series prediction.\n",
    "  + ...\n",
    "\n",
    "+ The number of epochs: This is the number of iterations used to train the network. The higher the number of epochs, the longer the training time. \n",
    "\n",
    "+  The **loss function**: The loss function is the function the neural network will try to optimize. It should represent the error that the network commits at predicting. For example, if we are performing classification, we will want the loss function to be zero when the prediction is correct, and higher than zero when the prediction is incorrect. That is\n",
    "\n",
    "$$\n",
    "\\mathcal{L}(y, \\hat{y}) =  \\left\\{\n",
    "\\begin{array}{ll}\n",
    "      0 & \\text{if } y=\\hat{y}\\\\\n",
    "      1 & \\text{if } y\\neq\\hat{y}\n",
    "\\end{array} \n",
    "\\right. \n",
    "$$\n",
    "\n",
    "However, this loss function is not a continuous function and therefore it is not suitable for the learning algoritm (it computes the derivatives of the loss function). For this reason, for classification tasks we use a loss function called **cross-entropy**:\n",
    "\n",
    "$$\n",
    "\\mathcal{L} = - \\sum_i t_i \\log(s_i) \n",
    "$$\n",
    "\n",
    "where\n",
    "\n",
    "$$\n",
    "t_i = \\left\\{\n",
    "\\begin{array}{ll}\n",
    "      0 & \\text{if } y=\\hat{y}\\\\\n",
    "      1 & \\text{if } y\\neq\\hat{y}\n",
    "\\end{array} \n",
    "\\right. \n",
    "$$\n",
    "\n",
    "and $s_i$ is the probablity predicted by the model of $\\hat{y}$ being $y$. \n",
    "\n",
    "+ There are other parameters which are used in the training algorithm. To enumerate some of them: the learning rate, the batch size, the optimizer, activation function... you can look for information about all these parameters. In this example we will use the standard parameters, which are given by default. \n",
    "\n",
    "\n",
    "The training algorithm will do as follows:\n",
    "\n",
    "+ Initialize the model parameters (weights) to some values.\n",
    "+ Read the training data (for each example).\n",
    "+ Predict the output with the current parameters.\n",
    "+ Compute the loss.\n",
    "+ Adjuts the model parameters."
   ]
  },
  {
   "cell_type": "markdown",
   "metadata": {
    "id": "8upSBomAEtEN"
   },
   "source": [
    "# Neural Networks for image recognition\n",
    "\n",
    "Let's classify handwritten digits:\n",
    "\n",
    "![alt text](https://github.com/DataScienceUB/DeepLearningMaster20192020/blob/master/images/mnistExamples.png?raw=1)\n",
    "\n",
    "The next cell imports the digits dataset and show some examples."
   ]
  },
  {
   "cell_type": "code",
   "execution_count": 1,
   "metadata": {
    "colab": {
     "base_uri": "https://localhost:8080/",
     "height": 220
    },
    "id": "yrjgcKgAxbuA",
    "outputId": "c798d501-36af-4382-d71f-47c14f956e96"
   },
   "outputs": [
    {
     "name": "stdout",
     "output_type": "stream",
     "text": [
      "Downloading data from https://storage.googleapis.com/tensorflow/tf-keras-datasets/mnist.npz\n",
      "11493376/11490434 [==============================] - 0s 0us/step\n"
     ]
    },
    {
     "data": {
      "image/png": "[encoded data removed]",
      "text/plain": [
       "<Figure size 720x720 with 5 Axes>"
      ]
     },
     "metadata": {
      "needs_background": "light",
      "tags": []
     },
     "output_type": "display_data"
    },
    {
     "name": "stdout",
     "output_type": "stream",
     "text": [
      "Labels:  5           0             4            1             9\n"
     ]
    }
   ],
   "source": [
    "import tensorflow as tf\n",
    "from matplotlib import pyplot as plt\n",
    "import numpy as np\n",
    "from tensorflow import keras\n",
    "from tensorflow.keras import layers\n",
    "\n",
    "%matplotlib inline\n",
    "\n",
    "(X_train, y_train), (X_test, y_test) = tf.keras.datasets.mnist.load_data()\n",
    "\n",
    "fig, ax = plt.subplots(1,5,figsize=(10, 10))\n",
    "for i in range(5):\n",
    "  ax[i].imshow(X_train[i].reshape((28, 28)), interpolation='nearest', cmap='gray')\n",
    "plt.show()\n",
    "\n",
    "print(\"Labels: {:2}  {:10} {:13} {:12}  {:12}\".format(y_train[0],y_train[1],y_train[2],y_train[3],y_train[4]))"
   ]
  },
  {
   "cell_type": "code",
   "execution_count": 2,
   "metadata": {
    "colab": {
     "base_uri": "https://localhost:8080/"
    },
    "id": "hDxZzJeZDN-m",
    "outputId": "ebb4c8cc-8c50-435f-94b4-4626c031dce7"
   },
   "outputs": [
    {
     "name": "stdout",
     "output_type": "stream",
     "text": [
      "Size of the training set:  60000\n",
      "Size of the test set:  10000\n"
     ]
    }
   ],
   "source": [
    "print('Size of the training set: ', X_train.shape[0])\n",
    "print('Size of the test set: ', X_test.shape[0])"
   ]
  },
  {
   "cell_type": "markdown",
   "metadata": {
    "id": "-BLBwj9zDXS0"
   },
   "source": [
    "As we can see, we need a lot of data to train these kind of models. \n",
    "\n",
    "Now we will how to define and train a neural network using a library called Keras.  We will begin using a standard **fully-connected network**.\n",
    "\n",
    "First of all, let us define the training parameters."
   ]
  },
  {
   "cell_type": "code",
   "execution_count": 3,
   "metadata": {
    "ExecuteTime": {
     "end_time": "2019-03-05T11:48:01.408944Z",
     "start_time": "2019-03-05T11:48:01.370766Z"
    },
    "id": "LNUN3agUEtEP"
   },
   "outputs": [],
   "source": [
    "# Parameters\n",
    "learning_rate = 0.001\n",
    "training_epochs = 30\n",
    "batch_size = 64\n",
    "\n",
    "# Network Parameters\n",
    "n_hidden_1 = 256 # 1st layer number of features\n",
    "n_hidden_2 = 256 # 2nd layer number of features\n",
    "n_input    = 784 # MNIST data input (img shape: 28*28)\n",
    "n_classes  = 10  # MNIST total classes (0-9 digits)\n"
   ]
  },
  {
   "cell_type": "code",
   "execution_count": 4,
   "metadata": {
    "ExecuteTime": {
     "end_time": "2019-03-05T11:48:03.287003Z",
     "start_time": "2019-03-05T11:48:03.281960Z"
    },
    "colab": {
     "base_uri": "https://localhost:8080/"
    },
    "id": "qGufCkh1EtER",
    "outputId": "faf3a506-bdbc-48d3-923f-693a174c0e9d"
   },
   "outputs": [
    {
     "name": "stdout",
     "output_type": "stream",
     "text": [
      "Model: \"sequential\"\n",
      "_________________________________________________________________\n",
      "Layer (type)                 Output Shape              Param #   \n",
      "=================================================================\n",
      "dense (Dense)                (None, 256)               200960    \n",
      "_________________________________________________________________\n",
      "dense_1 (Dense)              (None, 256)               65792     \n",
      "_________________________________________________________________\n",
      "dense_2 (Dense)              (None, 10)                2570      \n",
      "=================================================================\n",
      "Total params: 269,322\n",
      "Trainable params: 269,322\n",
      "Non-trainable params: 0\n",
      "_________________________________________________________________\n"
     ]
    }
   ],
   "source": [
    "from tensorflow.keras import layers\n",
    "\n",
    "model = tf.keras.Sequential()\n",
    "\n",
    "# Adds a fully-connected layer with 256 units to the model:\n",
    "model.add(layers.Dense(n_hidden_1, activation='relu', input_shape=(n_input,)))\n",
    "\n",
    "# Add another:\n",
    "model.add(layers.Dense(n_hidden_2, activation='relu'))\n",
    "\n",
    "# Add a softmax layer with 10 output units:\n",
    "model.add(layers.Dense(n_classes, activation='softmax'))\n",
    "\n",
    "model.summary()"
   ]
  },
  {
   "cell_type": "markdown",
   "metadata": {
    "id": "BnV9039jFNhs"
   },
   "source": [
    "The function .summary() shows the internal structure of the network. Now that we have designd the network, we choose the loss function that will be used to train the model. In this case, we use the cross-entropy loss. In order to specify the loss function, we use the function .compile()"
   ]
  },
  {
   "cell_type": "code",
   "execution_count": 5,
   "metadata": {
    "ExecuteTime": {
     "end_time": "2019-03-05T11:48:05.138426Z",
     "start_time": "2019-03-05T11:48:05.014267Z"
    },
    "id": "lQ26w2IQEtES"
   },
   "outputs": [],
   "source": [
    "model.compile(optimizer=tf.keras.optimizers.Adam(0.001),\n",
    "              loss='categorical_crossentropy',\n",
    "              metrics=['accuracy'])"
   ]
  },
  {
   "cell_type": "markdown",
   "metadata": {
    "id": "eUVSlk43FwK-"
   },
   "source": [
    "Finally, we need to train the model. We use the function .fit() to do so. First, we need to prepare the data for training.\n",
    "\n"
   ]
  },
  {
   "cell_type": "code",
   "execution_count": 6,
   "metadata": {
    "id": "4_w-sM8rG4hS"
   },
   "outputs": [],
   "source": [
    "# Prepare the data to give it to the NN\n",
    "from sklearn.preprocessing import OneHotEncoder\n",
    "enc = OneHotEncoder(sparse=False)\n",
    "y_train_NN = enc.fit_transform(y_train.reshape(-1,1))\n",
    "X_train_NN = X_train.reshape(-1, 28*28)\n",
    "\n",
    "y_test_NN = enc.transform(y_test.reshape(-1,1))\n",
    "X_test_NN = X_test.reshape(-1, 28*28)"
   ]
  },
  {
   "cell_type": "code",
   "execution_count": 7,
   "metadata": {
    "ExecuteTime": {
     "end_time": "2019-03-05T11:48:26.092599Z",
     "start_time": "2019-03-05T11:48:05.858881Z"
    },
    "colab": {
     "base_uri": "https://localhost:8080/"
    },
    "id": "9ymMFktxEtEU",
    "outputId": "990a6d31-e204-4afc-c26a-8f55c4b6abd6"
   },
   "outputs": [
    {
     "name": "stdout",
     "output_type": "stream",
     "text": [
      "Epoch 1/30\n",
      "938/938 [==============================] - 6s 3ms/step - loss: 5.1126 - accuracy: 0.8466 - val_loss: 0.5173 - val_accuracy: 0.9318\n",
      "Epoch 2/30\n",
      "938/938 [==============================] - 2s 3ms/step - loss: 0.3603 - accuracy: 0.9429 - val_loss: 0.3358 - val_accuracy: 0.9475\n",
      "Epoch 3/30\n",
      "938/938 [==============================] - 2s 3ms/step - loss: 0.2081 - accuracy: 0.9575 - val_loss: 0.2536 - val_accuracy: 0.9540\n",
      "Epoch 4/30\n",
      "938/938 [==============================] - 2s 3ms/step - loss: 0.1335 - accuracy: 0.9670 - val_loss: 0.2247 - val_accuracy: 0.9607\n",
      "Epoch 5/30\n",
      "938/938 [==============================] - 3s 3ms/step - loss: 0.1177 - accuracy: 0.9698 - val_loss: 0.2181 - val_accuracy: 0.9547\n",
      "Epoch 6/30\n",
      "938/938 [==============================] - 2s 3ms/step - loss: 0.1054 - accuracy: 0.9718 - val_loss: 0.1978 - val_accuracy: 0.9545\n",
      "Epoch 7/30\n",
      "938/938 [==============================] - 2s 3ms/step - loss: 0.0981 - accuracy: 0.9729 - val_loss: 0.1544 - val_accuracy: 0.9659\n",
      "Epoch 8/30\n",
      "938/938 [==============================] - 2s 3ms/step - loss: 0.0903 - accuracy: 0.9761 - val_loss: 0.1859 - val_accuracy: 0.9621\n",
      "Epoch 9/30\n",
      "938/938 [==============================] - 3s 3ms/step - loss: 0.0931 - accuracy: 0.9742 - val_loss: 0.1686 - val_accuracy: 0.9640\n",
      "Epoch 10/30\n",
      "938/938 [==============================] - 2s 3ms/step - loss: 0.0793 - accuracy: 0.9782 - val_loss: 0.1707 - val_accuracy: 0.9685\n",
      "Epoch 11/30\n",
      "938/938 [==============================] - 3s 3ms/step - loss: 0.0826 - accuracy: 0.9783 - val_loss: 0.1557 - val_accuracy: 0.9663\n",
      "Epoch 12/30\n",
      "938/938 [==============================] - 2s 3ms/step - loss: 0.0695 - accuracy: 0.9811 - val_loss: 0.1600 - val_accuracy: 0.9668\n",
      "Epoch 13/30\n",
      "938/938 [==============================] - 3s 3ms/step - loss: 0.0731 - accuracy: 0.9804 - val_loss: 0.1702 - val_accuracy: 0.9627\n",
      "Epoch 14/30\n",
      "938/938 [==============================] - 2s 3ms/step - loss: 0.0681 - accuracy: 0.9818 - val_loss: 0.1458 - val_accuracy: 0.9713\n",
      "Epoch 15/30\n",
      "938/938 [==============================] - 2s 3ms/step - loss: 0.0641 - accuracy: 0.9836 - val_loss: 0.1987 - val_accuracy: 0.9636\n",
      "Epoch 16/30\n",
      "938/938 [==============================] - 2s 3ms/step - loss: 0.0686 - accuracy: 0.9823 - val_loss: 0.2680 - val_accuracy: 0.9590\n",
      "Epoch 17/30\n",
      "938/938 [==============================] - 2s 3ms/step - loss: 0.0633 - accuracy: 0.9847 - val_loss: 0.1875 - val_accuracy: 0.9673\n",
      "Epoch 18/30\n",
      "938/938 [==============================] - 2s 3ms/step - loss: 0.0537 - accuracy: 0.9864 - val_loss: 0.1846 - val_accuracy: 0.9696\n",
      "Epoch 19/30\n",
      "938/938 [==============================] - 2s 3ms/step - loss: 0.0540 - accuracy: 0.9866 - val_loss: 0.1636 - val_accuracy: 0.9716\n",
      "Epoch 20/30\n",
      "938/938 [==============================] - 2s 3ms/step - loss: 0.0516 - accuracy: 0.9878 - val_loss: 0.1910 - val_accuracy: 0.9706\n",
      "Epoch 21/30\n",
      "938/938 [==============================] - 2s 3ms/step - loss: 0.0459 - accuracy: 0.9877 - val_loss: 0.2260 - val_accuracy: 0.9712\n",
      "Epoch 22/30\n",
      "938/938 [==============================] - 3s 3ms/step - loss: 0.0545 - accuracy: 0.9870 - val_loss: 0.2167 - val_accuracy: 0.9703\n",
      "Epoch 23/30\n",
      "938/938 [==============================] - 3s 3ms/step - loss: 0.0476 - accuracy: 0.9894 - val_loss: 0.2639 - val_accuracy: 0.9697\n",
      "Epoch 24/30\n",
      "938/938 [==============================] - 3s 3ms/step - loss: 0.0599 - accuracy: 0.9859 - val_loss: 0.2001 - val_accuracy: 0.9710\n",
      "Epoch 25/30\n",
      "938/938 [==============================] - 3s 3ms/step - loss: 0.0471 - accuracy: 0.9884 - val_loss: 0.2621 - val_accuracy: 0.9696\n",
      "Epoch 26/30\n",
      "938/938 [==============================] - 3s 3ms/step - loss: 0.0530 - accuracy: 0.9886 - val_loss: 0.2548 - val_accuracy: 0.9711\n",
      "Epoch 27/30\n",
      "938/938 [==============================] - 3s 3ms/step - loss: 0.0445 - accuracy: 0.9897 - val_loss: 0.2133 - val_accuracy: 0.9715\n",
      "Epoch 28/30\n",
      "938/938 [==============================] - 3s 3ms/step - loss: 0.0407 - accuracy: 0.9913 - val_loss: 0.2361 - val_accuracy: 0.9720\n",
      "Epoch 29/30\n",
      "938/938 [==============================] - 3s 3ms/step - loss: 0.0472 - accuracy: 0.9900 - val_loss: 0.2401 - val_accuracy: 0.9760\n",
      "Epoch 30/30\n",
      "938/938 [==============================] - 3s 3ms/step - loss: 0.0396 - accuracy: 0.9911 - val_loss: 0.1978 - val_accuracy: 0.9728\n"
     ]
    },
    {
     "data": {
      "text/plain": [
       "<tensorflow.python.keras.callbacks.History at 0x7efd52e6ed10>"
      ]
     },
     "execution_count": 7,
     "metadata": {
      "tags": []
     },
     "output_type": "execute_result"
    }
   ],
   "source": [
    "model.fit(X_train_NN, y_train_NN, epochs=training_epochs, batch_size=batch_size,\n",
    "          validation_data=(X_test_NN, y_test_NN))"
   ]
  },
  {
   "cell_type": "markdown",
   "metadata": {
    "id": "yk0BIRyqJha4"
   },
   "source": [
    "Finally, we evaluate the model"
   ]
  },
  {
   "cell_type": "code",
   "execution_count": 8,
   "metadata": {
    "colab": {
     "base_uri": "https://localhost:8080/"
    },
    "id": "bi9nNa50EtEX",
    "outputId": "f7f2ffc6-365a-4aac-b6e4-68d93bbd0e1f"
   },
   "outputs": [
    {
     "name": "stdout",
     "output_type": "stream",
     "text": [
      "Test loss function: 0.19783490896224976\n",
      "Test accuracy: 0.9728000164031982\n"
     ]
    }
   ],
   "source": [
    "score = model.evaluate(X_test_NN, y_test_NN, verbose=0)\n",
    "\n",
    "print('Test loss function:', score[0])\n",
    "print('Test accuracy:', score[1])"
   ]
  },
  {
   "cell_type": "markdown",
   "metadata": {
    "id": "CuRtpJyRps5k"
   },
   "source": [
    "## Exercise 1\n",
    "\n",
    "Try changing some of the parameters of the neural network and see if it changes the final performance. Remeber that you can change the number of hidden layers, the number of neurons in each layer, the learning rate, the number of epochs and the type of layers (among others).\n",
    "\n",
    "## Exercise 2\n",
    "\n",
    "I propose to change the fully-connected layers by convolutional layers. The structure of a convolutional neural network is the following:\n",
    "\n",
    "![](https://drive.google.com/uc?export=view&id=1GzbzebrFQ5qkYAcCAIgoOu46g0ruMBgr)\n",
    "\n",
    "The input layer is followed by pairs of convolutional layers and max-pooling layers. The convolutional layers try to extract local patterns of the image. The max-pooling layers try to reduce the dimensionality of the image. After these convolutional and max-pooling layers, the output is passed to a Flatten layer and then to a fully-connected layer. Finally, another fully-connected layer returns the output. Check the following links:\n",
    "\n",
    "+ [Convolutional layer](https://www.tensorflow.org/api_docs/python/tf/keras/layers/Conv2D)\n",
    "\n",
    "+ [Max-pooling layer](https://www.tensorflow.org/api_docs/python/tf/keras/layers/MaxPool2D)\n",
    "\n",
    "+ [Flatten layer](https://www.tensorflow.org/api_docs/python/tf/keras/layers/Flatten)\n",
    "\n",
    "+ [Fully-connected layer](https://www.tensorflow.org/api_docs/python/tf/keras/layers/Dense)"
   ]
  },
  {
   "cell_type": "code",
   "execution_count": 18,
   "metadata": {
    "colab": {
     "base_uri": "https://localhost:8080/"
    },
    "id": "bWF7ZFrqsuB3",
    "outputId": "0fd60300-3a6c-4c12-ef17-9d262e848fc3"
   },
   "outputs": [
    {
     "name": "stdout",
     "output_type": "stream",
     "text": [
      "Model: \"sequential_4\"\n",
      "_________________________________________________________________\n",
      "Layer (type)                 Output Shape              Param #   \n",
      "=================================================================\n",
      "conv2d_3 (Conv2D)            (None, 13, 13, 64)        640       \n",
      "_________________________________________________________________\n",
      "max_pooling2d_2 (MaxPooling2 (None, 6, 6, 64)          0         \n",
      "_________________________________________________________________\n",
      "conv2d_4 (Conv2D)            (None, 2, 2, 32)          18464     \n",
      "_________________________________________________________________\n",
      "max_pooling2d_3 (MaxPooling2 (None, 1, 1, 32)          0         \n",
      "_________________________________________________________________\n",
      "flatten_1 (Flatten)          (None, 32)                0         \n",
      "_________________________________________________________________\n",
      "dense_4 (Dense)              (None, 32)                1056      \n",
      "_________________________________________________________________\n",
      "dense_5 (Dense)              (None, 10)                330       \n",
      "=================================================================\n",
      "Total params: 20,490\n",
      "Trainable params: 20,490\n",
      "Non-trainable params: 0\n",
      "_________________________________________________________________\n"
     ]
    }
   ],
   "source": [
    "from tensorflow.keras import layers\n",
    "\n",
    "model = tf.keras.Sequential()\n",
    "\n",
    "# Adds a convolutional layer with 64 units to the model:\n",
    "model.add(layers.Conv2D(64, 3, strides=(2,2), activation='relu',\n",
    "                        input_shape=(28,28,1)))\n",
    "# Add a max-pooling layer:\n",
    "model.add(layers.MaxPool2D())\n",
    "\n",
    "#####################################################\n",
    "# Your code\n",
    "# Add another convolutional layer with 32 neurons and a max-pooling layer\n",
    "model.add(layers.Conv2D(32, 3, strides=(2,2), activation='relu',\n",
    "                        input_shape=(28,28,1)))\n",
    "# Add a max-pooling layer:\n",
    "model.add(layers.MaxPool2D())\n",
    "#####################################################\n",
    "\n",
    "# Add a flatten layer\n",
    "model.add(layers.Flatten())\n",
    "\n",
    "#####################################################\n",
    "# Your code\n",
    "# Add a fully-connected (Dense) layer with 32 neurons\n",
    "model.add(layers.Dense(32, activation='relu'))\n",
    "#####################################################\n",
    "\n",
    "\n",
    "# Add a fully-conencted layer to report the output\n",
    "model.add(layers.Dense(n_classes, activation='softmax'))\n",
    "\n",
    "model.summary()"
   ]
  },
  {
   "cell_type": "code",
   "execution_count": 19,
   "metadata": {
    "id": "ytGBdinbKkHt"
   },
   "outputs": [],
   "source": [
    "model.compile(optimizer=tf.keras.optimizers.Adam(0.001),\n",
    "              loss='categorical_crossentropy',\n",
    "              metrics=['accuracy'])"
   ]
  },
  {
   "cell_type": "code",
   "execution_count": 20,
   "metadata": {
    "colab": {
     "base_uri": "https://localhost:8080/"
    },
    "id": "Udq-iRaqKkPS",
    "outputId": "99d93be1-2244-4821-c597-907c2cff79b5"
   },
   "outputs": [
    {
     "name": "stdout",
     "output_type": "stream",
     "text": [
      "Epoch 1/30\n",
      "938/938 [==============================] - 4s 3ms/step - loss: 1.7744 - accuracy: 0.6507 - val_loss: 0.2526 - val_accuracy: 0.9262\n",
      "Epoch 2/30\n",
      "938/938 [==============================] - 3s 3ms/step - loss: 0.2080 - accuracy: 0.9382 - val_loss: 0.1724 - val_accuracy: 0.9466\n",
      "Epoch 3/30\n",
      "938/938 [==============================] - 3s 3ms/step - loss: 0.1474 - accuracy: 0.9552 - val_loss: 0.1607 - val_accuracy: 0.9532\n",
      "Epoch 4/30\n",
      "938/938 [==============================] - 3s 3ms/step - loss: 0.1255 - accuracy: 0.9616 - val_loss: 0.1323 - val_accuracy: 0.9606\n",
      "Epoch 5/30\n",
      "938/938 [==============================] - 3s 3ms/step - loss: 0.1083 - accuracy: 0.9661 - val_loss: 0.1198 - val_accuracy: 0.9643\n",
      "Epoch 6/30\n",
      "938/938 [==============================] - 3s 3ms/step - loss: 0.0966 - accuracy: 0.9695 - val_loss: 0.1250 - val_accuracy: 0.9649\n",
      "Epoch 7/30\n",
      "938/938 [==============================] - 3s 3ms/step - loss: 0.0890 - accuracy: 0.9720 - val_loss: 0.1091 - val_accuracy: 0.9698\n",
      "Epoch 8/30\n",
      "938/938 [==============================] - 3s 3ms/step - loss: 0.0789 - accuracy: 0.9757 - val_loss: 0.1169 - val_accuracy: 0.9666\n",
      "Epoch 9/30\n",
      "938/938 [==============================] - 3s 3ms/step - loss: 0.0697 - accuracy: 0.9772 - val_loss: 0.1196 - val_accuracy: 0.9647\n",
      "Epoch 10/30\n",
      "938/938 [==============================] - 3s 3ms/step - loss: 0.0712 - accuracy: 0.9772 - val_loss: 0.1141 - val_accuracy: 0.9688\n",
      "Epoch 11/30\n",
      "938/938 [==============================] - 3s 3ms/step - loss: 0.0588 - accuracy: 0.9810 - val_loss: 0.1126 - val_accuracy: 0.9688\n",
      "Epoch 12/30\n",
      "938/938 [==============================] - 3s 3ms/step - loss: 0.0601 - accuracy: 0.9804 - val_loss: 0.1159 - val_accuracy: 0.9700\n",
      "Epoch 13/30\n",
      "938/938 [==============================] - 3s 3ms/step - loss: 0.0562 - accuracy: 0.9823 - val_loss: 0.1071 - val_accuracy: 0.9719\n",
      "Epoch 14/30\n",
      "938/938 [==============================] - 3s 3ms/step - loss: 0.0589 - accuracy: 0.9802 - val_loss: 0.1222 - val_accuracy: 0.9711\n",
      "Epoch 15/30\n",
      "938/938 [==============================] - 3s 3ms/step - loss: 0.0502 - accuracy: 0.9833 - val_loss: 0.1147 - val_accuracy: 0.9727\n",
      "Epoch 16/30\n",
      "938/938 [==============================] - 3s 3ms/step - loss: 0.0465 - accuracy: 0.9842 - val_loss: 0.1425 - val_accuracy: 0.9653\n",
      "Epoch 17/30\n",
      "938/938 [==============================] - 3s 3ms/step - loss: 0.0441 - accuracy: 0.9851 - val_loss: 0.1328 - val_accuracy: 0.9693\n",
      "Epoch 18/30\n",
      "938/938 [==============================] - 3s 3ms/step - loss: 0.0479 - accuracy: 0.9846 - val_loss: 0.1257 - val_accuracy: 0.9684\n",
      "Epoch 19/30\n",
      "938/938 [==============================] - 3s 3ms/step - loss: 0.0431 - accuracy: 0.9844 - val_loss: 0.1215 - val_accuracy: 0.9701\n",
      "Epoch 20/30\n",
      "938/938 [==============================] - 3s 3ms/step - loss: 0.0358 - accuracy: 0.9878 - val_loss: 0.1320 - val_accuracy: 0.9684\n",
      "Epoch 21/30\n",
      "938/938 [==============================] - 3s 3ms/step - loss: 0.0372 - accuracy: 0.9873 - val_loss: 0.1451 - val_accuracy: 0.9679\n",
      "Epoch 22/30\n",
      "938/938 [==============================] - 3s 3ms/step - loss: 0.0367 - accuracy: 0.9882 - val_loss: 0.1382 - val_accuracy: 0.9690\n",
      "Epoch 23/30\n",
      "938/938 [==============================] - 3s 3ms/step - loss: 0.0338 - accuracy: 0.9880 - val_loss: 0.1565 - val_accuracy: 0.9669\n",
      "Epoch 24/30\n",
      "938/938 [==============================] - 3s 3ms/step - loss: 0.0367 - accuracy: 0.9874 - val_loss: 0.1317 - val_accuracy: 0.9714\n",
      "Epoch 25/30\n",
      "938/938 [==============================] - 3s 3ms/step - loss: 0.0327 - accuracy: 0.9892 - val_loss: 0.1368 - val_accuracy: 0.9715\n",
      "Epoch 26/30\n",
      "938/938 [==============================] - 3s 3ms/step - loss: 0.0320 - accuracy: 0.9893 - val_loss: 0.1750 - val_accuracy: 0.9645\n",
      "Epoch 27/30\n",
      "938/938 [==============================] - 3s 3ms/step - loss: 0.0316 - accuracy: 0.9890 - val_loss: 0.1570 - val_accuracy: 0.9657\n",
      "Epoch 28/30\n",
      "938/938 [==============================] - 3s 3ms/step - loss: 0.0264 - accuracy: 0.9910 - val_loss: 0.1666 - val_accuracy: 0.9671\n",
      "Epoch 29/30\n",
      "938/938 [==============================] - 3s 3ms/step - loss: 0.0334 - accuracy: 0.9888 - val_loss: 0.1925 - val_accuracy: 0.9645\n",
      "Epoch 30/30\n",
      "938/938 [==============================] - 3s 3ms/step - loss: 0.0319 - accuracy: 0.9887 - val_loss: 0.1538 - val_accuracy: 0.9700\n"
     ]
    },
    {
     "data": {
      "text/plain": [
       "<tensorflow.python.keras.callbacks.History at 0x7efd646e5c90>"
      ]
     },
     "execution_count": 20,
     "metadata": {
      "tags": []
     },
     "output_type": "execute_result"
    }
   ],
   "source": [
    "X_train_CNN = X_train.reshape(-1, 28,28,1)\n",
    "X_test_CNN = X_test.reshape(-1, 28,28,1)\n",
    "model.fit(X_train_CNN, y_train_NN, epochs=training_epochs, batch_size=batch_size,\n",
    "          validation_data=(X_test_CNN, y_test_NN))"
   ]
  },
  {
   "cell_type": "code",
   "execution_count": 21,
   "metadata": {
    "colab": {
     "base_uri": "https://localhost:8080/"
    },
    "id": "rNjE5hhAKrvy",
    "outputId": "7cb021f5-f01c-41e1-a634-6cb410247185"
   },
   "outputs": [
    {
     "name": "stdout",
     "output_type": "stream",
     "text": [
      "Test loss function: 0.1538342833518982\n",
      "Test accuracy: 0.9700000286102295\n"
     ]
    }
   ],
   "source": [
    "score = model.evaluate(X_test_CNN, y_test_NN, verbose=0)\n",
    "\n",
    "print('Test loss function:', score[0])\n",
    "print('Test accuracy:', score[1])"
   ]
  },
  {
   "cell_type": "code",
   "execution_count": null,
   "metadata": {
    "id": "RpvsoChoL2E_"
   },
   "outputs": [],
   "source": []
  }
 ],
 "metadata": {
  "accelerator": "GPU",
  "colab": {
   "collapsed_sections": [],
   "name": "Deep learning for image recognition-solution.ipynb",
   "provenance": []
  },
  "kernelspec": {
   "display_name": "Python 3",
   "language": "python",
   "name": "python3"
  },
  "language_info": {
   "codemirror_mode": {
    "name": "ipython",
    "version": 3
   },
   "file_extension": ".py",
   "mimetype": "text/x-python",
   "name": "python",
   "nbconvert_exporter": "python",
   "pygments_lexer": "ipython3",
   "version": "3.8.8"
  },
  "toc": {
   "base_numbering": 1,
   "nav_menu": {},
   "number_sections": true,
   "sideBar": true,
   "skip_h1_title": false,
   "title_cell": "Table of Contents",
   "title_sidebar": "Contents",
   "toc_cell": false,
   "toc_position": {},
   "toc_section_display": true,
   "toc_window_display": true
  }
 },
 "nbformat": 4,
 "nbformat_minor": 1
}
