{
 "cells": [
  {
   "cell_type": "markdown",
   "metadata": {
    "id": "z2fdBzI62UQr"
   },
   "source": [
    "[![Open In Colab](https://colab.research.google.com/assets/colab-badge.svg)](https://colab.research.google.com/github/laiadc/MachineLearningHandsOn/blob/main/day4/Deep%20learning%20for%20image%20recognition.ipynb)\n",
    "\n",
    "# How to learn Deep Learning models?\n",
    "\n",
    "We have seen that deep learning models consist of a set of layers of neurons with connections between the nodes of each layer. Each layer *learns* a particular feature or trait of the input and uses it to predict the output. \n",
    "\n",
    "\n",
    "![](https://drive.google.com/uc?export=view&id=1X3iQfNGN10ZPUak_M4BrjRZKzS8mg0DU)\n",
    "\n",
    "+ What do we want the neural network to learn? Given the image input (e.g the hand-written number five), we want to learn to **predict the label** (e.g 5). \n",
    "\n",
    "+ What do we have to learn to train the neural network? The **connection weights** $w_{11}, w_{12}, \\cdots w_{NK}$."
   ]
  },
  {
   "cell_type": "markdown",
   "metadata": {
    "id": "65FN2Bos9hmw"
   },
   "source": [
    "## Elements for training\n",
    "\n",
    "Even though the algoritm to train the network is quite complex, there are python libraries which make it easy for us to train a neural network. There are just a few things we have to specify, and the library will do the rest:\n",
    "\n",
    "+ The number of hidden layers.\n",
    "\n",
    "+ The number of neurons for each layer\n",
    "\n",
    "+ The type of layer: There are several modifications of the standard neural network described above. These modifications are often used for specific purposes:\n",
    "  + Fully-connected layer: It is the classical layer, used for general applications.\n",
    "  + Convolutional layer: Mostly used when the input of the network is an image.\n",
    "  + Recurrent layer: Used for time series prediction.\n",
    "  + ...\n",
    "\n",
    "+ The number of epochs: This is the number of iterations used to train the network. The higher the number of epochs, the longer the training time. \n",
    "\n",
    "+  The **loss function**: The loss function is the function the neural network will try to optimize. It should represent the error that the network commits at predicting. For example, if we are performing classification, we will want the loss function to be zero when the prediction is correct, and higher than zero when the prediction is incorrect. That is\n",
    "\n",
    "$$\n",
    "\\mathcal{L}(y, \\hat{y}) =  \\left\\{\n",
    "\\begin{array}{ll}\n",
    "      0 & \\text{if } y=\\hat{y}\\\\\n",
    "      1 & \\text{if } y\\neq\\hat{y}\n",
    "\\end{array} \n",
    "\\right. \n",
    "$$\n",
    "\n",
    "However, this loss function is not a continuous function and therefore it is not suitable for the learning algoritm (it computes the derivatives of the loss function). For this reason, for classification tasks we use a loss function called **cross-entropy**:\n",
    "\n",
    "$$\n",
    "\\mathcal{L} = - \\sum_i t_i \\log(s_i) \n",
    "$$\n",
    "\n",
    "where\n",
    "\n",
    "$$\n",
    "t_i = \\left\\{\n",
    "\\begin{array}{ll}\n",
    "      0 & \\text{if } y=\\hat{y}\\\\\n",
    "      1 & \\text{if } y\\neq\\hat{y}\n",
    "\\end{array} \n",
    "\\right. \n",
    "$$\n",
    "\n",
    "and $s_i$ is the probablity predicted by the model of $\\hat{y}$ being $y$. \n",
    "\n",
    "+ There are other parameters which are used in the training algorithm. To enumerate some of them: the learning rate, the batch size, the optimizer, activation function... you can look for information about all these parameters. In this example we will use the standard parameters, which are given by default. \n",
    "\n",
    "\n",
    "The training algorithm will do as follows:\n",
    "\n",
    "+ Initialize the model parameters (weights) to some values.\n",
    "+ Read the training data (for each example).\n",
    "+ Predict the output with the current parameters.\n",
    "+ Compute the loss.\n",
    "+ Adjuts the model parameters."
   ]
  },
  {
   "cell_type": "markdown",
   "metadata": {
    "id": "8upSBomAEtEN"
   },
   "source": [
    "# Neural Networks for image recognition\n",
    "\n",
    "Let's classify handwritten digits:\n",
    "\n",
    "![alt text](https://github.com/DataScienceUB/DeepLearningMaster20192020/blob/master/images/mnistExamples.png?raw=1)\n",
    "\n",
    "The next cell imports the digits dataset and show some examples."
   ]
  },
  {
   "cell_type": "code",
   "execution_count": 1,
   "metadata": {
    "colab": {
     "base_uri": "https://localhost:8080/",
     "height": 164
    },
    "executionInfo": {
     "elapsed": 3617,
     "status": "ok",
     "timestamp": 1620647891856,
     "user": {
      "displayName": "Laia Domingo",
      "photoUrl": "",
      "userId": "05713674999451466092"
     },
     "user_tz": -120
    },
    "id": "yrjgcKgAxbuA",
    "outputId": "f5ec8202-024e-434a-e3b8-f6de5fbdaae5"
   },
   "outputs": [
    {
     "data": {
      "image/png": "[encoded data removed]",
      "text/plain": [
       "<Figure size 720x720 with 5 Axes>"
      ]
     },
     "metadata": {
      "needs_background": "light",
      "tags": []
     },
     "output_type": "display_data"
    },
    {
     "name": "stdout",
     "output_type": "stream",
     "text": [
      "Labels:  5           0             4            1             9\n"
     ]
    }
   ],
   "source": [
    "import tensorflow as tf\n",
    "from matplotlib import pyplot as plt\n",
    "import numpy as np\n",
    "from tensorflow import keras\n",
    "from tensorflow.keras import layers\n",
    "\n",
    "%matplotlib inline\n",
    "\n",
    "(X_train, y_train), (X_test, y_test) = tf.keras.datasets.mnist.load_data()\n",
    "\n",
    "fig, ax = plt.subplots(1,5,figsize=(10, 10))\n",
    "for i in range(5):\n",
    "  ax[i].imshow(X_train[i].reshape((28, 28)), interpolation='nearest', cmap='gray')\n",
    "plt.show()\n",
    "\n",
    "print(\"Labels: {:2}  {:10} {:13} {:12}  {:12}\".format(y_train[0],y_train[1],y_train[2],y_train[3],y_train[4]))"
   ]
  },
  {
   "cell_type": "code",
   "execution_count": 2,
   "metadata": {
    "colab": {
     "base_uri": "https://localhost:8080/"
    },
    "executionInfo": {
     "elapsed": 3613,
     "status": "ok",
     "timestamp": 1620647891859,
     "user": {
      "displayName": "Laia Domingo",
      "photoUrl": "",
      "userId": "05713674999451466092"
     },
     "user_tz": -120
    },
    "id": "hDxZzJeZDN-m",
    "outputId": "0e3b5c84-7e13-4cb1-a41a-eb94e7ceb0ff"
   },
   "outputs": [
    {
     "name": "stdout",
     "output_type": "stream",
     "text": [
      "Size of the training set:  60000\n",
      "Size of the test set:  10000\n"
     ]
    }
   ],
   "source": [
    "print('Size of the training set: ', X_train.shape[0])\n",
    "print('Size of the test set: ', X_test.shape[0])"
   ]
  },
  {
   "cell_type": "markdown",
   "metadata": {
    "id": "-BLBwj9zDXS0"
   },
   "source": [
    "As we can see, we need a lot of data to train these kind of models. \n",
    "\n",
    "Now we will how to define and train a neural network using a library called Keras.  We will begin using a standard **fully-connected network**.\n",
    "\n",
    "First of all, let us define the training parameters."
   ]
  },
  {
   "cell_type": "code",
   "execution_count": 3,
   "metadata": {
    "ExecuteTime": {
     "end_time": "2019-03-05T11:48:01.408944Z",
     "start_time": "2019-03-05T11:48:01.370766Z"
    },
    "executionInfo": {
     "elapsed": 3610,
     "status": "ok",
     "timestamp": 1620647891862,
     "user": {
      "displayName": "Laia Domingo",
      "photoUrl": "",
      "userId": "05713674999451466092"
     },
     "user_tz": -120
    },
    "id": "LNUN3agUEtEP"
   },
   "outputs": [],
   "source": [
    "# Parameters\n",
    "learning_rate = 0.001\n",
    "training_epochs = 30\n",
    "batch_size = 64\n",
    "\n",
    "# Network Parameters\n",
    "n_hidden_1 = 256 # 1st layer number of features\n",
    "n_hidden_2 = 256 # 2nd layer number of features\n",
    "n_input    = 784 # MNIST data input (img shape: 28*28)\n",
    "n_classes  = 10  # MNIST total classes (0-9 digits)\n"
   ]
  },
  {
   "cell_type": "code",
   "execution_count": 4,
   "metadata": {
    "ExecuteTime": {
     "end_time": "2019-03-05T11:48:03.287003Z",
     "start_time": "2019-03-05T11:48:03.281960Z"
    },
    "colab": {
     "base_uri": "https://localhost:8080/"
    },
    "executionInfo": {
     "elapsed": 4003,
     "status": "ok",
     "timestamp": 1620647892259,
     "user": {
      "displayName": "Laia Domingo",
      "photoUrl": "",
      "userId": "05713674999451466092"
     },
     "user_tz": -120
    },
    "id": "qGufCkh1EtER",
    "outputId": "12f0fa9d-6f28-4e20-a7d7-3e3f099a58ce"
   },
   "outputs": [
    {
     "name": "stdout",
     "output_type": "stream",
     "text": [
      "Model: \"sequential\"\n",
      "_________________________________________________________________\n",
      "Layer (type)                 Output Shape              Param #   \n",
      "=================================================================\n",
      "dense (Dense)                (None, 256)               200960    \n",
      "_________________________________________________________________\n",
      "dense_1 (Dense)              (None, 256)               65792     \n",
      "_________________________________________________________________\n",
      "dense_2 (Dense)              (None, 10)                2570      \n",
      "=================================================================\n",
      "Total params: 269,322\n",
      "Trainable params: 269,322\n",
      "Non-trainable params: 0\n",
      "_________________________________________________________________\n"
     ]
    }
   ],
   "source": [
    "from tensorflow.keras import layers\n",
    "\n",
    "model = tf.keras.Sequential()\n",
    "\n",
    "# Adds a fully-connected layer with 256 units to the model:\n",
    "model.add(layers.Dense(n_hidden_1, activation='relu', input_shape=(n_input,)))\n",
    "\n",
    "# Add another:\n",
    "model.add(layers.Dense(n_hidden_2, activation='relu'))\n",
    "\n",
    "# Add a softmax layer with 10 output units:\n",
    "model.add(layers.Dense(n_classes, activation='softmax'))\n",
    "\n",
    "model.summary()"
   ]
  },
  {
   "cell_type": "markdown",
   "metadata": {
    "id": "BnV9039jFNhs"
   },
   "source": [
    "The function .summary() shows the internal structure of the network. Now that we have designd the network, we choose the loss function that will be used to train the model. In this case, we use the cross-entropy loss. In order to specify the loss function, we use the function .compile()"
   ]
  },
  {
   "cell_type": "code",
   "execution_count": 5,
   "metadata": {
    "ExecuteTime": {
     "end_time": "2019-03-05T11:48:05.138426Z",
     "start_time": "2019-03-05T11:48:05.014267Z"
    },
    "executionInfo": {
     "elapsed": 4003,
     "status": "ok",
     "timestamp": 1620647892263,
     "user": {
      "displayName": "Laia Domingo",
      "photoUrl": "",
      "userId": "05713674999451466092"
     },
     "user_tz": -120
    },
    "id": "lQ26w2IQEtES"
   },
   "outputs": [],
   "source": [
    "model.compile(optimizer=tf.keras.optimizers.Adam(0.001),\n",
    "              loss='categorical_crossentropy',\n",
    "              metrics=['accuracy'])"
   ]
  },
  {
   "cell_type": "markdown",
   "metadata": {
    "id": "eUVSlk43FwK-"
   },
   "source": [
    "Finally, we need to train the model. We use the function .fit() to do so. First, we need to prepare the data for training.\n",
    "\n"
   ]
  },
  {
   "cell_type": "code",
   "execution_count": 7,
   "metadata": {
    "executionInfo": {
     "elapsed": 1010,
     "status": "ok",
     "timestamp": 1620647930961,
     "user": {
      "displayName": "Laia Domingo",
      "photoUrl": "",
      "userId": "05713674999451466092"
     },
     "user_tz": -120
    },
    "id": "4_w-sM8rG4hS"
   },
   "outputs": [],
   "source": [
    "# Prepare the data to give it to the NN\n",
    "from sklearn.preprocessing import OneHotEncoder\n",
    "enc = OneHotEncoder(sparse=False)\n",
    "y_train_NN = enc.fit_transform(y_train.reshape(-1,1))\n",
    "X_train_NN = X_train.reshape(-1, 28*28)\n",
    "\n",
    "y_test_NN = enc.transform(y_test.reshape(-1,1))\n",
    "X_test_NN = X_test.reshape(-1, 28*28)"
   ]
  },
  {
   "cell_type": "code",
   "execution_count": 8,
   "metadata": {
    "ExecuteTime": {
     "end_time": "2019-03-05T11:48:26.092599Z",
     "start_time": "2019-03-05T11:48:05.858881Z"
    },
    "colab": {
     "base_uri": "https://localhost:8080/"
    },
    "executionInfo": {
     "elapsed": 103927,
     "status": "ok",
     "timestamp": 1620648035740,
     "user": {
      "displayName": "Laia Domingo",
      "photoUrl": "",
      "userId": "05713674999451466092"
     },
     "user_tz": -120
    },
    "id": "9ymMFktxEtEU",
    "outputId": "66b2f4e1-2fb4-43e0-dac3-0f890f760d18"
   },
   "outputs": [
    {
     "name": "stdout",
     "output_type": "stream",
     "text": [
      "Epoch 1/30\n",
      "938/938 [==============================] - 4s 4ms/step - loss: 4.8384 - accuracy: 0.8494 - val_loss: 0.4483 - val_accuracy: 0.9338\n",
      "Epoch 2/30\n",
      "938/938 [==============================] - 3s 4ms/step - loss: 0.3263 - accuracy: 0.9439 - val_loss: 0.2652 - val_accuracy: 0.9441\n",
      "Epoch 3/30\n",
      "938/938 [==============================] - 3s 4ms/step - loss: 0.1598 - accuracy: 0.9613 - val_loss: 0.2488 - val_accuracy: 0.9471\n",
      "Epoch 4/30\n",
      "938/938 [==============================] - 3s 4ms/step - loss: 0.1164 - accuracy: 0.9693 - val_loss: 0.2090 - val_accuracy: 0.9497\n",
      "Epoch 5/30\n",
      "938/938 [==============================] - 3s 4ms/step - loss: 0.1078 - accuracy: 0.9697 - val_loss: 0.1970 - val_accuracy: 0.9570\n",
      "Epoch 6/30\n",
      "938/938 [==============================] - 3s 4ms/step - loss: 0.1031 - accuracy: 0.9721 - val_loss: 0.1741 - val_accuracy: 0.9603\n",
      "Epoch 7/30\n",
      "938/938 [==============================] - 3s 4ms/step - loss: 0.1059 - accuracy: 0.9723 - val_loss: 0.1485 - val_accuracy: 0.9647\n",
      "Epoch 8/30\n",
      "938/938 [==============================] - 3s 4ms/step - loss: 0.0816 - accuracy: 0.9760 - val_loss: 0.1480 - val_accuracy: 0.9641\n",
      "Epoch 9/30\n",
      "938/938 [==============================] - 3s 4ms/step - loss: 0.0833 - accuracy: 0.9765 - val_loss: 0.1799 - val_accuracy: 0.9619\n",
      "Epoch 10/30\n",
      "938/938 [==============================] - 3s 4ms/step - loss: 0.0824 - accuracy: 0.9771 - val_loss: 0.1602 - val_accuracy: 0.9632\n",
      "Epoch 11/30\n",
      "938/938 [==============================] - 3s 4ms/step - loss: 0.0805 - accuracy: 0.9797 - val_loss: 0.1380 - val_accuracy: 0.9715\n",
      "Epoch 12/30\n",
      "938/938 [==============================] - 3s 4ms/step - loss: 0.0725 - accuracy: 0.9799 - val_loss: 0.1425 - val_accuracy: 0.9724\n",
      "Epoch 13/30\n",
      "938/938 [==============================] - 3s 4ms/step - loss: 0.0614 - accuracy: 0.9830 - val_loss: 0.1389 - val_accuracy: 0.9715\n",
      "Epoch 14/30\n",
      "938/938 [==============================] - 3s 4ms/step - loss: 0.0681 - accuracy: 0.9829 - val_loss: 0.1658 - val_accuracy: 0.9664\n",
      "Epoch 15/30\n",
      "938/938 [==============================] - 3s 4ms/step - loss: 0.0619 - accuracy: 0.9836 - val_loss: 0.1646 - val_accuracy: 0.9694\n",
      "Epoch 16/30\n",
      "938/938 [==============================] - 3s 4ms/step - loss: 0.0579 - accuracy: 0.9848 - val_loss: 0.1418 - val_accuracy: 0.9724\n",
      "Epoch 17/30\n",
      "938/938 [==============================] - 3s 4ms/step - loss: 0.0550 - accuracy: 0.9855 - val_loss: 0.1687 - val_accuracy: 0.9715\n",
      "Epoch 18/30\n",
      "938/938 [==============================] - 3s 4ms/step - loss: 0.0468 - accuracy: 0.9881 - val_loss: 0.1837 - val_accuracy: 0.9724\n",
      "Epoch 19/30\n",
      "938/938 [==============================] - 3s 4ms/step - loss: 0.0471 - accuracy: 0.9878 - val_loss: 0.1750 - val_accuracy: 0.9724\n",
      "Epoch 20/30\n",
      "938/938 [==============================] - 3s 4ms/step - loss: 0.0557 - accuracy: 0.9872 - val_loss: 0.1834 - val_accuracy: 0.9737\n",
      "Epoch 21/30\n",
      "938/938 [==============================] - 3s 4ms/step - loss: 0.0438 - accuracy: 0.9891 - val_loss: 0.1590 - val_accuracy: 0.9739\n",
      "Epoch 22/30\n",
      "938/938 [==============================] - 3s 4ms/step - loss: 0.0392 - accuracy: 0.9897 - val_loss: 0.2065 - val_accuracy: 0.9749\n",
      "Epoch 23/30\n",
      "938/938 [==============================] - 3s 4ms/step - loss: 0.0617 - accuracy: 0.9874 - val_loss: 0.2055 - val_accuracy: 0.9722\n",
      "Epoch 24/30\n",
      "938/938 [==============================] - 3s 4ms/step - loss: 0.0460 - accuracy: 0.9893 - val_loss: 0.2099 - val_accuracy: 0.9721\n",
      "Epoch 25/30\n",
      "938/938 [==============================] - 3s 4ms/step - loss: 0.0486 - accuracy: 0.9889 - val_loss: 0.2294 - val_accuracy: 0.9714\n",
      "Epoch 26/30\n",
      "938/938 [==============================] - 3s 4ms/step - loss: 0.0371 - accuracy: 0.9916 - val_loss: 0.1949 - val_accuracy: 0.9740\n",
      "Epoch 27/30\n",
      "938/938 [==============================] - 3s 4ms/step - loss: 0.0364 - accuracy: 0.9917 - val_loss: 0.2646 - val_accuracy: 0.9695\n",
      "Epoch 28/30\n",
      "938/938 [==============================] - 3s 4ms/step - loss: 0.0465 - accuracy: 0.9900 - val_loss: 0.2088 - val_accuracy: 0.9747\n",
      "Epoch 29/30\n",
      "938/938 [==============================] - 3s 4ms/step - loss: 0.0389 - accuracy: 0.9915 - val_loss: 0.2524 - val_accuracy: 0.9742\n",
      "Epoch 30/30\n",
      "938/938 [==============================] - 3s 4ms/step - loss: 0.0337 - accuracy: 0.9922 - val_loss: 0.2321 - val_accuracy: 0.9701\n"
     ]
    },
    {
     "data": {
      "text/plain": [
       "<tensorflow.python.keras.callbacks.History at 0x7f806f70d650>"
      ]
     },
     "execution_count": 8,
     "metadata": {
      "tags": []
     },
     "output_type": "execute_result"
    }
   ],
   "source": [
    "model.fit(X_train_NN, y_train_NN, epochs=training_epochs, batch_size=batch_size,\n",
    "          validation_data=(X_test_NN, y_test_NN))"
   ]
  },
  {
   "cell_type": "markdown",
   "metadata": {
    "id": "yk0BIRyqJha4"
   },
   "source": [
    "Finally, we evaluate the model"
   ]
  },
  {
   "cell_type": "code",
   "execution_count": 11,
   "metadata": {
    "colab": {
     "base_uri": "https://localhost:8080/"
    },
    "executionInfo": {
     "elapsed": 1806,
     "status": "ok",
     "timestamp": 1620648074666,
     "user": {
      "displayName": "Laia Domingo",
      "photoUrl": "",
      "userId": "05713674999451466092"
     },
     "user_tz": -120
    },
    "id": "bi9nNa50EtEX",
    "outputId": "3b8ef389-a9db-4ac6-df26-307750571805"
   },
   "outputs": [
    {
     "name": "stdout",
     "output_type": "stream",
     "text": [
      "Test loss function: 0.23208358883857727\n",
      "Test accuracy: 0.9700999855995178\n"
     ]
    }
   ],
   "source": [
    "score = model.evaluate(X_test_NN, y_test_NN, verbose=0)\n",
    "\n",
    "print('Test loss function:', score[0])\n",
    "print('Test accuracy:', score[1])"
   ]
  },
  {
   "cell_type": "markdown",
   "metadata": {
    "id": "CuRtpJyRps5k"
   },
   "source": [
    "## Exercise\n",
    "\n",
    "Try changing some of the parameters of the neural network and see if it changes the final performance. Remeber that you can change the number of hidden layers, the number of neurons in each layer, the learning rate, the number of epochs and the type of layers (among others). I propose to change the fully-connected layers by convolutional layers. The structure of a convolutional neural network is the following:\n",
    "\n",
    "![](https://drive.google.com/uc?export=view&id=1GzbzebrFQ5qkYAcCAIgoOu46g0ruMBgr)\n",
    "\n",
    "The input layer is followed by pairs of convolutional layers and max-pooling layers. The convolutional layers try to extract local patterns of the image. The max-pooling layers try to reduce the dimensionality of the image. After these convolutional and max-pooling layers, the output is passed to a Flatten layer and then to a fully-connected layer. Finally, another fully-connected layer returns the output. Check the following links:\n",
    "\n",
    "+ [Convolutional layer](https://www.tensorflow.org/api_docs/python/tf/keras/layers/Conv2D)\n",
    "\n",
    "+ [Max-pooling layer](https://www.tensorflow.org/api_docs/python/tf/keras/layers/MaxPool2D)\n",
    "\n",
    "+ [Flatten layer](https://www.tensorflow.org/api_docs/python/tf/keras/layers/Flatten)\n",
    "\n",
    "+ [Fully-connected layer](https://www.tensorflow.org/api_docs/python/tf/keras/layers/Dense)"
   ]
  },
  {
   "cell_type": "code",
   "execution_count": null,
   "metadata": {},
   "outputs": [],
   "source": [
    "from tensorflow.keras import layers\n",
    "\n",
    "model = tf.keras.Sequential()\n",
    "\n",
    "# Adds a convolutional layer with 64 units to the model:\n",
    "model.add(layers.Conv2D(64, 3, strides=(2,2), activation='relu',\n",
    "                        input_shape=(28,28,1)))\n",
    "# Add a max-pooling layer:\n",
    "model.add(layers.MaxPool2D())\n",
    "\n",
    "#####################################################\n",
    "# Your code\n",
    "# Add another convolutional layer with 32 neurons and a max-pooling layer\n",
    "\n",
    "\n",
    "#####################################################\n",
    "\n",
    "# Add a flatten layer\n",
    "model.add(layers.Flatten())\n",
    "\n",
    "#####################################################\n",
    "# Your code\n",
    "# Add a fully-connected (Dense) layer with 32 neurons\n",
    "\n",
    "\n",
    "#####################################################\n",
    "\n",
    "\n",
    "# Add a fully-conencted layer to report the output\n",
    "model.add(layers.Dense(n_classes, activation='softmax'))\n",
    "\n",
    "model.summary()"
   ]
  },
  {
   "cell_type": "code",
   "execution_count": null,
   "metadata": {},
   "outputs": [],
   "source": [
    "model.compile(optimizer=tf.keras.optimizers.Adam(0.001),\n",
    "              loss='categorical_crossentropy',\n",
    "              metrics=['accuracy'])"
   ]
  },
  {
   "cell_type": "code",
   "execution_count": null,
   "metadata": {},
   "outputs": [],
   "source": [
    "X_train_CNN = X_train.reshape(-1, 28,28,1)\n",
    "X_test_CNN = X_test.reshape(-1, 28,28,1)\n",
    "model.fit(X_train_CNN, y_train_NN, epochs=training_epochs, batch_size=batch_size,\n",
    "          validation_data=(X_test_CNN, y_test_NN))"
   ]
  },
  {
   "cell_type": "code",
   "execution_count": null,
   "metadata": {},
   "outputs": [],
   "source": [
    "score = model.evaluate(X_test_CNN, y_test_NN, verbose=0)\n",
    "\n",
    "print('Test loss function:', score[0])\n",
    "print('Test accuracy:', score[1])"
   ]
  },
  {
   "cell_type": "code",
   "execution_count": null,
   "metadata": {},
   "outputs": [],
   "source": []
  }
 ],
 "metadata": {
  "accelerator": "GPU",
  "colab": {
   "collapsed_sections": [],
   "name": "Deep learning for image recognition.ipynb",
   "provenance": [
    {
     "file_id": "https://github.com/DataScienceUB/DeepLearningMaster20192020/blob/master/4.%20Tensorflow%20first%20learning%20models.ipynb",
     "timestamp": 1620641208725
    }
   ]
  },
  "kernelspec": {
   "display_name": "Python 3",
   "language": "python",
   "name": "python3"
  },
  "language_info": {
   "codemirror_mode": {
    "name": "ipython",
    "version": 3
   },
   "file_extension": ".py",
   "mimetype": "text/x-python",
   "name": "python",
   "nbconvert_exporter": "python",
   "pygments_lexer": "ipython3",
   "version": "3.7.5"
  },
  "toc": {
   "base_numbering": 1,
   "nav_menu": {},
   "number_sections": true,
   "sideBar": true,
   "skip_h1_title": false,
   "title_cell": "Table of Contents",
   "title_sidebar": "Contents",
   "toc_cell": false,
   "toc_position": {},
   "toc_section_display": true,
   "toc_window_display": true
  }
 },
 "nbformat": 4,
 "nbformat_minor": 1
}
